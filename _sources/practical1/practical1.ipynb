{
 "cells": [
  {
   "cell_type": "markdown",
   "id": "455ba4ae",
   "metadata": {},
   "source": [
    "# Programming Session 1\n",
    "\n",
    "## Goals\n",
    "\n",
    "-   Understanding fundamentals of Python programming:\n",
    "-   Variables, data types, lists, sets and tuples.\n",
    "-   Conditional expressions and loops\n",
    "-   Sort\n",
    "-   Dictionary\n",
    "-   Files and user interaction\n",
    "-   Mathematical (matrix) calculations using Numpy\n"
   ]
  },
  {
   "cell_type": "markdown",
   "id": "67a3a06a",
   "metadata": {},
   "source": [
    "## Exercise 1"
   ]
  },
  {
   "cell_type": "markdown",
   "id": "dc58e0e5-61bd-4828-a587-6ba71ad46a64",
   "metadata": {},
   "source": [
    "### 1\\. Comments\n",
    "\n",
    "The `#` symbol is used for writing a comment."
   ]
  },
  {
   "cell_type": "code",
   "execution_count": null,
   "id": "498d60d4",
   "metadata": {},
   "outputs": [],
   "source": [
    "# This is a comment\n",
    "print(\"Hello\")"
   ]
  },
  {
   "cell_type": "markdown",
   "id": "d1018cba",
   "metadata": {},
   "source": [
    "### 2\\. Variables\n",
    "\n",
    "A variable is a symbolic name that references or holds a value, which can be of various data types such as numbers, strings, or objects.\n"
   ]
  },
  {
   "cell_type": "code",
   "execution_count": null,
   "id": "3a504eb6",
   "metadata": {},
   "outputs": [],
   "source": [
    "# a variable\n",
    "message = \"World!\"\n",
    "print(message)"
   ]
  },
  {
   "cell_type": "markdown",
   "id": "a5ff1d8b-fd90-4144-81a5-2a53d71adc58",
   "metadata": {},
   "source": [
    "Variables are used to store values that can be manipulated; here, `a` and `b` are assigned integer values, and `c` stores the result of their addition, which is then printed."
   ]
  },
  {
   "cell_type": "code",
   "execution_count": null,
   "id": "1e5f97f1",
   "metadata": {},
   "outputs": [],
   "source": [
    "a = 10\n",
    "b = 20\n",
    "c = a + b\n",
    "print(c)"
   ]
  },
  {
   "cell_type": "markdown",
   "id": "4e3b6430-c423-4b40-b0d9-63cf6be364d0",
   "metadata": {},
   "source": [
    "A variable is assigned a floating-point value and then printed."
   ]
  },
  {
   "cell_type": "code",
   "execution_count": null,
   "id": "78e40444",
   "metadata": {},
   "outputs": [],
   "source": [
    "# floating point numbers\n",
    "pi = 3.14\n",
    "print(pi)"
   ]
  },
  {
   "cell_type": "markdown",
   "id": "ec645c72-06f0-4d58-9c6a-691762783082",
   "metadata": {},
   "source": [
    "The type() function in Python is used to determine the data type of a variable or a value. "
   ]
  },
  {
   "cell_type": "code",
   "execution_count": null,
   "id": "0305b149",
   "metadata": {},
   "outputs": [],
   "source": [
    "# data types\n",
    "message1 = \"Hello\"\n",
    "a = 12\n",
    "pi = 3.14\n",
    "print(type(message1))\n",
    "print(type(a))\n",
    "print(type(pi))"
   ]
  },
  {
   "cell_type": "markdown",
   "id": "d98dd021",
   "metadata": {},
   "source": [
    "### 3\\. Concatenation of two strings"
   ]
  },
  {
   "cell_type": "markdown",
   "id": "3d6c756d-8f27-4968-8205-cacfbb0aa2cb",
   "metadata": {},
   "source": [
    "String concatenation in Python refers to the process of joining multiple strings together to create a new string. This can be achieved using the + operator. When you use + between two strings, Python combines them into a single string. "
   ]
  },
  {
   "cell_type": "code",
   "execution_count": null,
   "id": "db518461",
   "metadata": {},
   "outputs": [],
   "source": [
    "# concatenation of two strings\n",
    "message = \"World!\"\n",
    "print(\"Hello\" + message)"
   ]
  },
  {
   "cell_type": "code",
   "execution_count": null,
   "id": "94f0209f",
   "metadata": {},
   "outputs": [],
   "source": [
    "# concatenation of two strings using variables\n",
    "message1 = \"Hello \"\n",
    "message2 = \"World!\"\n",
    "print(message1 + message2)"
   ]
  },
  {
   "cell_type": "code",
   "execution_count": null,
   "id": "6f10293b",
   "metadata": {},
   "outputs": [],
   "source": [
    "# concatenation involving two variables of different data types\n",
    "# operation + on two different data types\n",
    "\n",
    "# Uncomment the print statement and run the code\n",
    "message1 = \"Hello! Python\"\n",
    "a = 3\n",
    "# print(message1 + a)"
   ]
  },
  {
   "cell_type": "markdown",
   "id": "96ee99f8",
   "metadata": {},
   "source": [
    "Why did you get this error? In the following code, we correct this error."
   ]
  },
  {
   "cell_type": "code",
   "execution_count": null,
   "id": "804151c7",
   "metadata": {},
   "outputs": [],
   "source": [
    "# concatenation solution involving two variables of different data types\n",
    "message1 = \"Hello! Python \"\n",
    "a = 3\n",
    "print(message1 + str(a))"
   ]
  },
  {
   "cell_type": "markdown",
   "id": "d5238384-ca5a-4e34-89da-a4167b71fda8",
   "metadata": {},
   "source": [
    "Type conversion (or type casting) refers to the process of converting one data type into another.\n",
    "\n",
    "`str(a)` converts the integer variable a into a string. This is necessary because you cannot directly concatenate a string (message1) with an integer (a) using the + operator without first converting the integer to a string."
   ]
  },
  {
   "cell_type": "markdown",
   "id": "d2f95220",
   "metadata": {},
   "source": [
    "### 4\\. Lists"
   ]
  },
  {
   "cell_type": "markdown",
   "id": "07702ea1-2608-4c41-9bfd-97adfcae4ab0",
   "metadata": {},
   "source": [
    "A list is a collection of items, which can be of different data types, enclosed in square brackets [] and separated by commas."
   ]
  },
  {
   "cell_type": "code",
   "execution_count": null,
   "id": "d17058a3",
   "metadata": {},
   "outputs": [],
   "source": [
    "a = [10, 20, 30, 40, 50]\n",
    "print(a)"
   ]
  },
  {
   "cell_type": "markdown",
   "id": "b17214a7-6295-4490-9c9d-5fa48ace80ed",
   "metadata": {},
   "source": [
    "Lists are ordered collections, and each element in a list has a specific position called an index. Indexing allows you to access individual elements in a list using their position.\n",
    "\n",
    "The index of the first element in a list is 0, the index of the second element is 1, and so on.\n",
    "\n",
    "Elements in a list can be accessed by specifying the list's name followed by square brackets containing the index of the element you want to access."
   ]
  },
  {
   "cell_type": "code",
   "execution_count": null,
   "id": "b1fa70f8",
   "metadata": {},
   "outputs": [],
   "source": [
    "a = [10, 20, 30, 40, 50]\n",
    "print(a[0])\n",
    "print(a[1])\n",
    "print(a[2])\n",
    "print(a[3])\n",
    "print(a[4])"
   ]
  },
  {
   "cell_type": "code",
   "execution_count": null,
   "id": "cfcda3f4",
   "metadata": {},
   "outputs": [],
   "source": [
    "# Uncomment the print statement and run the code\n",
    "a = [10, 20, 30, 40, 50]\n",
    "# print(a[8])"
   ]
  },
  {
   "cell_type": "markdown",
   "id": "7ca8a672",
   "metadata": {},
   "source": [
    "Why did you get this error? The error occurs because the code is attempting to access an element in the list a at index 8, which does not exist. In Python (and in many programming languages), indexing of lists starts at 0 and goes up to len(a) - 1, where len(a) is the number of elements in the list a."
   ]
  },
  {
   "cell_type": "code",
   "execution_count": null,
   "id": "38e2c536",
   "metadata": {},
   "outputs": [],
   "source": [
    "message1 = \"Hello! Python \"\n",
    "print(message1[0])\n",
    "print(message1[1])\n",
    "print(message1[2])\n",
    "print(message1[3])\n",
    "print(message1[4])\n",
    "print(message1[5])\n",
    "print(message1[6])\n",
    "print(message1[7])"
   ]
  },
  {
   "cell_type": "markdown",
   "id": "3f55664b",
   "metadata": {},
   "source": [
    "Strings behave like lists of characters in many respects, so you can access individual characters using indexing just like you would with elements in a list. The len() function is used to determine the number of characters (or elements) in the string (or list)."
   ]
  },
  {
   "cell_type": "code",
   "execution_count": null,
   "id": "f92dc4d2",
   "metadata": {},
   "outputs": [],
   "source": [
    "message1 = \"Hello! Python \"\n",
    "print(len(message1))"
   ]
  },
  {
   "cell_type": "markdown",
   "id": "b208a6fa",
   "metadata": {},
   "source": [
    "We'll now create a list of integers."
   ]
  },
  {
   "cell_type": "code",
   "execution_count": null,
   "id": "6e490491",
   "metadata": {},
   "outputs": [],
   "source": [
    "a = [10, 20, 30, 40, 50]\n",
    "print(len(a))"
   ]
  },
  {
   "cell_type": "markdown",
   "id": "bf095642-ff1a-4376-a4a4-313ff8a54043",
   "metadata": {},
   "source": [
    "The len() function is used to determine the number of elements in a list (or the length of any iterable object).\n",
    "When len() is applied to a list, it returns the number of elements (or items) present in that list."
   ]
  },
  {
   "cell_type": "code",
   "execution_count": null,
   "id": "1c6853d0",
   "metadata": {},
   "outputs": [],
   "source": [
    "a = [10, 20, 30, 40, 50]\n",
    "\n",
    "# add a new number at the end of the list\n",
    "a.append(60)\n",
    "print(a)"
   ]
  },
  {
   "cell_type": "markdown",
   "id": "c528c46d-62e2-4845-ba88-93ac378d599f",
   "metadata": {},
   "source": [
    "The `append()` method is used to add a single element to the end of an existing list. The syntax for using `append()` is `list_name.append(element)`, where `list_name` is the name of the list to which you want to add the element, and element is the item you want to add. The element can be of any data type, and it is added as the last item in the list."
   ]
  },
  {
   "cell_type": "markdown",
   "id": "1a703588-f54a-4c23-b38e-727279e974e2",
   "metadata": {},
   "source": [
    "Elements in a list can be modified by assigning a new value to a specific index.\n",
    "List indexing starts at `0`, so `a[0]` refers to the first element of the list `a`, `a[1]` refers to the second element, and so on.\n",
    "You can directly assign a new value to any existing element in the list using this indexing method."
   ]
  },
  {
   "cell_type": "code",
   "execution_count": null,
   "id": "4b0fa01a",
   "metadata": {},
   "outputs": [],
   "source": [
    "a = [10, 20, 30, 40, 50]\n",
    "\n",
    "# modify a number at a particular index\n",
    "a[0] = 0\n",
    "print(a)"
   ]
  },
  {
   "cell_type": "markdown",
   "id": "87b68112-6b21-498d-ab59-d295bfa114c8",
   "metadata": {},
   "source": [
    "Uncomment the assignment statement and run the code below.\n"
   ]
  },
  {
   "cell_type": "code",
   "execution_count": null,
   "id": "aaed07ca",
   "metadata": {},
   "outputs": [],
   "source": [
    "a = [10, 20, 30, 40, 50]\n",
    "# a[6] = 20\n",
    "print(a)"
   ]
  },
  {
   "cell_type": "markdown",
   "id": "24b7c38b",
   "metadata": {},
   "source": [
    "Why did we get this error? We are modifying an element at a non-existing index."
   ]
  },
  {
   "cell_type": "markdown",
   "id": "eacf2d4c-37b1-4f41-90b4-8dc333443fb4",
   "metadata": {},
   "source": [
    "The `insert()` method is used to insert an element into a list at a specified index. The syntax for `insert()` is `list_name.insert(index, element)`, where `list_name` is the name of the list, `index` is the position where you want to insert the element, and element is the item you want to insert.\n",
    "\n",
    "Elements after the specified index are shifted to the right to accommodate the new element."
   ]
  },
  {
   "cell_type": "code",
   "execution_count": null,
   "id": "e947aebd",
   "metadata": {},
   "outputs": [],
   "source": [
    "a = [10, 20, 30, 40, 50]\n",
    "\n",
    "# inserting an element at a particular index will modify the list\n",
    "a.insert(0, 0)\n",
    "print(a)\n",
    "print(len(a))"
   ]
  },
  {
   "cell_type": "code",
   "execution_count": null,
   "id": "bbb38ad3",
   "metadata": {},
   "outputs": [],
   "source": [
    "a = [10, 20, 30, 40, 50]\n",
    "a.insert(6, 60)\n",
    "print(a)\n",
    "print(len(a))"
   ]
  },
  {
   "cell_type": "code",
   "execution_count": null,
   "id": "9e9683f4",
   "metadata": {},
   "outputs": [],
   "source": [
    "a = [10, 20, 30, 40, 50]\n",
    "\n",
    "# We will now try to insert a number at an index greater than the length\n",
    "# of the list. We will see that we do not get any error and the new number\n",
    "# is added at the end of the list\n",
    "a.insert(10, 60)\n",
    "print(a)\n",
    "print(len(a))"
   ]
  },
  {
   "cell_type": "markdown",
   "id": "798c96bf-c467-4715-97b4-7679c932dbc7",
   "metadata": {},
   "source": [
    "The `insert()` method can be used to insert an element at any index within the current range of the list. If you specify an index that is greater than the current length of the list, Python will insert the new element at the end of the list."
   ]
  },
  {
   "cell_type": "markdown",
   "id": "dca64c02",
   "metadata": {},
   "source": [
    "### 5\\. Tuples (non-modifiable lists)\n",
    "\n"
   ]
  },
  {
   "cell_type": "markdown",
   "id": "8e545b2b-b0dd-4456-8e65-52345ec03feb",
   "metadata": {},
   "source": [
    "A tuple is an ordered collection of elements, similar to a list, but tuples are immutable, meaning their contents cannot be changed after creation.\n",
    "Tuples are defined using parentheses `()` and elements are separated by commas.\n",
    "Tuples can contain elements of different data types and can even hold other tuples."
   ]
  },
  {
   "cell_type": "code",
   "execution_count": null,
   "id": "ee23a3b7",
   "metadata": {},
   "outputs": [],
   "source": [
    "a = (10, 20, 30, 40, 50)\n",
    "print(a)"
   ]
  },
  {
   "cell_type": "code",
   "execution_count": null,
   "id": "001282b3",
   "metadata": {},
   "outputs": [],
   "source": [
    "a = (10, 20, 30, 40, 50)\n",
    "print(a[0])"
   ]
  },
  {
   "cell_type": "code",
   "execution_count": null,
   "id": "f10ca12c",
   "metadata": {},
   "outputs": [],
   "source": [
    "a = (10, 20, 30, 40, 50)\n",
    "\n",
    "# We now try to modify a tuple\n",
    "# Uncomment the code below and run the code\n",
    "# A tupe is a non-modifiable list\n",
    "\n",
    "# a[0] = 0\n",
    "print(a)"
   ]
  },
  {
   "cell_type": "markdown",
   "id": "3621caf8-fab9-458f-b92c-ff03af3b29ff",
   "metadata": {},
   "source": [
    "Tuples in Python are immutable, meaning their contents cannot be changed after they are created. This is in contrast to lists, which are mutable and allow modifications to their elements."
   ]
  },
  {
   "cell_type": "markdown",
   "id": "d6374c85",
   "metadata": {},
   "source": [
    "### 6\\. Sets\n",
    "\n"
   ]
  },
  {
   "cell_type": "markdown",
   "id": "2ebddce5-dd7b-44f1-98d5-0003f1df4089",
   "metadata": {},
   "source": [
    "A set is an unordered collection of unique elements. It does not allow duplicate elements. Sets are defined using curly braces `{}`, and elements are separated by commas.\n",
    "\n",
    "When you create a set with duplicate elements, Python automatically removes the duplicates, leaving only unique elements in the set."
   ]
  },
  {
   "cell_type": "code",
   "execution_count": null,
   "id": "302e99a5",
   "metadata": {},
   "outputs": [],
   "source": [
    "# A set is a collection of distinct elements\n",
    "a = {10, 20, 30, 40, 50, 10, 20, 30, 40, 50}\n",
    "print(a)"
   ]
  },
  {
   "cell_type": "markdown",
   "id": "f02a32ae-8dda-4d99-bba8-9bbf9e244b22",
   "metadata": {},
   "source": [
    "You can add elements to a set using the `add()` method and remove elements from a set using the `remove()` method."
   ]
  },
  {
   "cell_type": "code",
   "execution_count": null,
   "id": "93647905",
   "metadata": {},
   "outputs": [],
   "source": [
    "a = {10, 20, 30, 40, 50, 10, 20, 30, 40, 50}\n",
    "a.add(10)\n",
    "print(a)"
   ]
  },
  {
   "cell_type": "code",
   "execution_count": null,
   "id": "2cb3753c",
   "metadata": {},
   "outputs": [],
   "source": [
    "a = {10, 20, 30, 40, 50, 10, 20, 30, 40, 50}\n",
    "a.add(60)\n",
    "print(a)"
   ]
  },
  {
   "cell_type": "code",
   "execution_count": null,
   "id": "6a9b97f8",
   "metadata": {},
   "outputs": [],
   "source": [
    "a = {10, 20, 30, 40, 50, 10, 20, 30, 40, 50}\n",
    "a.remove(40)\n",
    "print(a)"
   ]
  },
  {
   "cell_type": "markdown",
   "id": "5d77b67f",
   "metadata": {},
   "source": [
    "We will now try different data types with the numbers and print the result"
   ]
  },
  {
   "cell_type": "code",
   "execution_count": null,
   "id": "caa57307",
   "metadata": {},
   "outputs": [],
   "source": [
    "# set\n",
    "a = {10, 20, 30, 40, 50, 10, 20, 30, 40, 50}\n",
    "print(a)\n",
    "print(type(a))\n",
    "\n",
    "# tuple\n",
    "b = (10, 20, 30, 40, 50, 10, 20, 30, 40, 50)\n",
    "print(b)\n",
    "print(type(b))\n",
    "\n",
    "# list\n",
    "c = [10, 20, 30, 40, 50, 10, 20, 30, 40, 50]\n",
    "print(c)\n",
    "print(type(c))"
   ]
  },
  {
   "cell_type": "markdown",
   "id": "3967ecdd-547e-4ed6-addb-f69fccf942ff",
   "metadata": {},
   "source": [
    "Sets in Python automatically remove duplicates. Tuples preserve the order of elements and allow duplicates, but are immutable. Lists also preserve the order of elements and allow duplicates. "
   ]
  },
  {
   "cell_type": "markdown",
   "id": "c8d2e9ba-fcae-4ec7-95fa-8326f740d684",
   "metadata": {},
   "source": [
    "#### union()\n",
    "\n",
    "The `union()` method or the `|` operator combines two sets into a new set that contains all unique elements from both sets. It returns a new set containing elements that are present in either `a`, `b`, or both, without duplicates.\n",
    "The union operation does not modify the original sets `a` and `b`; instead, it creates and returns a new set with the combined elements."
   ]
  },
  {
   "cell_type": "code",
   "execution_count": null,
   "id": "28a7916d-c76b-4cc0-a461-91dfe28846cc",
   "metadata": {},
   "outputs": [],
   "source": [
    "a = {10, 20, 30, 40, 50}\n",
    "b = {10, 60, 70, 80, 90}\n",
    "c = a.union(b)\n",
    "print(c)"
   ]
  },
  {
   "cell_type": "markdown",
   "id": "5ae034ce-b010-4039-8a74-fd6f163fa99b",
   "metadata": {},
   "source": [
    "#### intersection()\n",
    "\n",
    "The `intersection()` method or the `&` operator returns a new set containing elements that are present in both sets `a` and `b`.\n",
    "It computes the intersection of sets `a` and `b`, meaning it includes only elements that are common to both sets.\n",
    "\n",
    "The intersection operation does not modify the original sets `a` and `b`; instead, it creates and returns a new set with the common elements."
   ]
  },
  {
   "cell_type": "code",
   "execution_count": null,
   "id": "d61e1ee1-2ee7-4234-97d0-41cdde579d40",
   "metadata": {},
   "outputs": [],
   "source": [
    "a = {10, 20, 30, 40, 50}\n",
    "b = {10, 60, 70, 80, 90}\n",
    "c = a.intersection(b)\n",
    "print(c)"
   ]
  },
  {
   "cell_type": "markdown",
   "id": "3d4bc494-23ca-41c3-91ee-99fef5973f6f",
   "metadata": {},
   "source": [
    "#### difference()\n",
    "\n",
    "The `difference()` method or the `-` operator returns a new set containing elements that are present in set `a` but not in set `b`.\n",
    "It computes the difference between sets `a` and `b`, meaning it includes only elements from `a` that are not present in `b`.\n",
    "The difference operation does not modify the original sets `a` and `b`; instead, it creates and returns a new set with the elements from `a` that are not in `b`."
   ]
  },
  {
   "cell_type": "code",
   "execution_count": null,
   "id": "69fb571a-a2b6-4ff5-959b-545b8092bae2",
   "metadata": {},
   "outputs": [],
   "source": [
    "a = {10, 20, 30, 40, 50}\n",
    "b = {10, 60, 70, 80, 90}\n",
    "c = a.difference(b)\n",
    "print(c)"
   ]
  },
  {
   "cell_type": "code",
   "execution_count": null,
   "id": "5bf35a60-818c-476e-a4ab-f9d850d91927",
   "metadata": {},
   "outputs": [],
   "source": [
    "a = {10, 20, 30, 40, 50}\n",
    "b = {10, 60, 70, 80, 90}\n",
    "c = b.difference(a)\n",
    "print(c)"
   ]
  },
  {
   "cell_type": "markdown",
   "id": "9cd925db",
   "metadata": {},
   "source": [
    "## Exercise 2"
   ]
  },
  {
   "cell_type": "markdown",
   "id": "5b1c6728-b37f-4108-8048-4604a50dea6e",
   "metadata": {},
   "source": [
    "### 1\\. Conditional Expressions"
   ]
  },
  {
   "cell_type": "markdown",
   "id": "ad369538-6652-44e0-ae84-8180878ddda4",
   "metadata": {},
   "source": [
    "Conditional statements (`if`, `else`, `elif`) allow you to control the flow of your program based on certain conditions. These statements help you execute specific blocks of code depending on whether conditions are `True` or `False`.\n",
    "\n",
    "#### The `if` statement\n",
    "\n",
    "The `if` statement is used to execute a block of code only if a specified condition is `True`. It can be followed by an optional `else` block."
   ]
  },
  {
   "cell_type": "code",
   "execution_count": null,
   "id": "bb1d18a4",
   "metadata": {},
   "outputs": [],
   "source": [
    "a = 12\n",
    "if a % 2 == 0:\n",
    "    print(a, \" is divisible by 2\")\n",
    "else:\n",
    "    print(a, \" is not divisible by 2\")"
   ]
  },
  {
   "cell_type": "code",
   "execution_count": null,
   "id": "bb094b63",
   "metadata": {},
   "outputs": [],
   "source": [
    "lang = \"Français\"\n",
    "if lang == \"Français\":\n",
    "    print(\"Bonjour World!!\")\n",
    "else:\n",
    "    print(\"Hello World!\")"
   ]
  },
  {
   "cell_type": "markdown",
   "id": "354ab0da-8266-49ca-86f3-43cd35f45d6b",
   "metadata": {},
   "source": [
    "#### The `if-elif-else` statement\n",
    "\n",
    "The `if-elif-else` statement is used when you have multiple conditions to evaluate sequentially. It allows you to check for multiple conditions and execute a block of code as soon as one of the conditions is `True`. It can also have an optional `else` block at the end.\n",
    "\n",
    "**Syntax:**\n",
    "```python\n",
    "if condition1:\n",
    "    # block of code to execute if condition1 is True\n",
    "elif condition2:\n",
    "    # block of code to execute if condition2 is True (optional)\n",
    "elif condition3:\n",
    "    # block of code to execute if condition3 is True (optional)\n",
    "else:\n",
    "    # block of code to execute if all conditions are False (optional)\n",
    "```\n"
   ]
  },
  {
   "cell_type": "code",
   "execution_count": null,
   "id": "bea20258-d2f9-47bd-8ab1-1a8a00e8e12c",
   "metadata": {},
   "outputs": [],
   "source": [
    "b = 15\n",
    "\n",
    "if b < 10:\n",
    "    print(\"b is less than 10\")\n",
    "elif b == 10:\n",
    "    print(\"b is equal to 10\")\n",
    "else:\n",
    "    print(\"b is greater than 10\")\n"
   ]
  },
  {
   "cell_type": "markdown",
   "id": "3ff3832b-c501-47d7-8b72-e3251b9ca358",
   "metadata": {},
   "source": [
    "#### The `if-elif` statement (without `else`)\n",
    "\n",
    "You can also use `if-elif` without an `else` block. In this case, if none of the conditions are `True`, no block of code will be executed.\n",
    "\n",
    "**Syntax:**\n",
    "```python\n",
    "if condition1:\n",
    "    # block of code to execute if condition1 is True\n",
    "elif condition2:\n",
    "    # block of code to execute if condition2 is True (optional)\n",
    "```"
   ]
  },
  {
   "cell_type": "code",
   "execution_count": null,
   "id": "1f69a664-2cde-4551-a5c6-1faeb2ebe79f",
   "metadata": {},
   "outputs": [],
   "source": [
    "c = 5\n",
    "\n",
    "if c < 0:\n",
    "    print(\"c is negative\")\n",
    "elif c == 0:\n",
    "    print(\"c is zero\")\n",
    "elif c > 0:\n",
    "    print(\"c is positive\")\n"
   ]
  },
  {
   "cell_type": "markdown",
   "id": "da787e56-dc19-4a72-94e8-82381e2bfb2f",
   "metadata": {},
   "source": [
    "### Key Points:\n",
    "\n",
    "- Use `if` to execute a block of code based on a single condition.\n",
    "- Use `if-elif-else` to evaluate multiple conditions sequentially and execute the corresponding block of code as soon as one condition is `True`.\n",
    "- Use `if-elif` without `else` when you have multiple conditions to check, but you do not need to execute any code if none of the conditions are `True`.\n",
    "- Indentation is crucial in Python to denote blocks of code within conditional statements.\n",
    "\n",
    "Conditional statements are fundamental for controlling the logic and behavior of your Python programs based on different scenarios and conditions."
   ]
  },
  {
   "cell_type": "markdown",
   "id": "d1c6f341",
   "metadata": {},
   "source": [
    "### 2\\. Loops\n",
    "\n",
    "Loops can also be used to access the elements at different indices. A `for` loop is used to iterate over a sequence (e.g., a list, tuple, string, or range).\n",
    "The loop variable (`i` in this case) takes on each element of the sequence one by one, allowing you to perform operations on each element inside the loop."
   ]
  },
  {
   "cell_type": "code",
   "execution_count": null,
   "id": "c0c912a8",
   "metadata": {},
   "outputs": [],
   "source": [
    "for i in [10, 20, 30, 40, 50, 10, 20, 30, 40, 50]:\n",
    "    print(i)"
   ]
  },
  {
   "cell_type": "code",
   "execution_count": null,
   "id": "2bf1d516",
   "metadata": {},
   "outputs": [],
   "source": [
    "for i in (10, 20, 30, 40, 50, 10, 20, 30, 40, 50):\n",
    "    print(i)"
   ]
  },
  {
   "cell_type": "code",
   "execution_count": null,
   "id": "9c386cdb",
   "metadata": {},
   "outputs": [],
   "source": [
    "for i in {10, 20, 30, 40, 50, 10, 20, 30, 40, 50}:\n",
    "    print(i)"
   ]
  },
  {
   "cell_type": "markdown",
   "id": "20d2f57f",
   "metadata": {},
   "source": [
    "### 3\\. Range\n",
    "\n"
   ]
  },
  {
   "cell_type": "markdown",
   "id": "b5769fe4-ad5f-4498-a513-b4f8267597fc",
   "metadata": {},
   "source": [
    "The `range(start, stop)` function generates a sequence of numbers starting from `start` up to (but not including) `stop`."
   ]
  },
  {
   "cell_type": "code",
   "execution_count": null,
   "id": "18056a6f",
   "metadata": {},
   "outputs": [],
   "source": [
    "for i in range(0, 10):\n",
    "    print(i)"
   ]
  },
  {
   "cell_type": "markdown",
   "id": "19346178-074d-41df-9e75-c35eeec5de5e",
   "metadata": {},
   "source": [
    "`range(start, stop, step)` specifies the increment (or decrement) between each number in the sequence."
   ]
  },
  {
   "cell_type": "code",
   "execution_count": null,
   "id": "d4f1ee8f",
   "metadata": {},
   "outputs": [],
   "source": [
    "for i in range(0, 10, 2):\n",
    "    print(i)"
   ]
  },
  {
   "cell_type": "markdown",
   "id": "a6c9e7a2-af68-4cda-9f75-8db2a165a3c9",
   "metadata": {},
   "source": [
    "When the `step` value is negative (-2 in the case below), the sequence counts downwards."
   ]
  },
  {
   "cell_type": "code",
   "execution_count": null,
   "id": "66655977",
   "metadata": {},
   "outputs": [],
   "source": [
    "for i in range(10, 0, -2):\n",
    "    print(i)"
   ]
  },
  {
   "cell_type": "code",
   "execution_count": null,
   "id": "da5f3786",
   "metadata": {},
   "outputs": [],
   "source": [
    "for i in range(10, 0):\n",
    "    print(i)"
   ]
  },
  {
   "cell_type": "markdown",
   "id": "9ce81f0d-9664-4edc-ab41-74b5c3cd4618",
   "metadata": {},
   "source": [
    "`print()` by default displays the message followed by a new line\n",
    "But you can change its behaviour. The `end=\" \"` parameter in `print()` specifies that each print statement should end with a space instead of the default newline character (`\\n`)."
   ]
  },
  {
   "cell_type": "code",
   "execution_count": null,
   "id": "dc273e09",
   "metadata": {},
   "outputs": [],
   "source": [
    "for i in range(0, 10, 2):\n",
    "    print(i, end=\" \")"
   ]
  },
  {
   "cell_type": "markdown",
   "id": "5b556ae3-22f3-44a4-85e9-814641972380",
   "metadata": {},
   "source": [
    "### 4. split()"
   ]
  },
  {
   "cell_type": "markdown",
   "id": "719d846c",
   "metadata": {},
   "source": [
    "The `split()` function in Python is used to split a string into a list of substrings based on a specified delimiter. If no delimiter is specified, by default, it splits the string based on any whitespace characters (spaces, tabs, newlines)."
   ]
  },
  {
   "cell_type": "code",
   "execution_count": null,
   "id": "ee55bba1",
   "metadata": {},
   "outputs": [],
   "source": [
    "for i in \"Hello, World!\".split():\n",
    "    print(i)"
   ]
  },
  {
   "cell_type": "markdown",
   "id": "d50edab3-7b62-4413-a4ce-07e90069ec80",
   "metadata": {},
   "source": [
    "The `for` loop iterates over each element in the list produced by `split()`, allowing you to process each substring individually."
   ]
  },
  {
   "cell_type": "code",
   "execution_count": null,
   "id": "2fe8a9b8",
   "metadata": {},
   "outputs": [],
   "source": [
    "for i in \"Hello, World!\".split(\",\"):\n",
    "    print(i)"
   ]
  },
  {
   "cell_type": "markdown",
   "id": "bcb14d29",
   "metadata": {},
   "source": [
    "Write a program in Python to display the following output\n",
    "\n",
    "  \n",
    " 1\n",
    " \n",
    " 12\n",
    " \n",
    " 123\n",
    " \n",
    " 1234\n",
    " \n",
    " 12345\n",
    " \n",
    " 123456\n",
    " \n",
    " 1234567\n",
    " \n",
    " 12345678"
   ]
  },
  {
   "cell_type": "markdown",
   "id": "ac2cac2b",
   "metadata": {},
   "source": [
    "## Exercise 3"
   ]
  },
  {
   "cell_type": "markdown",
   "id": "d79b631f-e333-46e4-ad12-78de41b45be6",
   "metadata": {},
   "source": [
    "### 1\\. Sort"
   ]
  },
  {
   "cell_type": "markdown",
   "id": "5de67bd0-93c4-4084-a637-dc55cca63ebe",
   "metadata": {},
   "source": [
    "The `sort()` method is used to sort lists. By default, `sort()` arranges elements in ascending order."
   ]
  },
  {
   "cell_type": "code",
   "execution_count": null,
   "id": "d0683123",
   "metadata": {},
   "outputs": [],
   "source": [
    "num = [10, 20, 30, 40, 50, 10, 20, 30, 40, 50]\n",
    "num.sort()\n",
    "print(num)"
   ]
  },
  {
   "cell_type": "markdown",
   "id": "19ce3757",
   "metadata": {},
   "source": [
    "### 2\\. Sort (decreasing order)"
   ]
  },
  {
   "cell_type": "markdown",
   "id": "5d194606-11eb-4cf6-9a27-c9edb2945042",
   "metadata": {},
   "source": [
    "Passing `reverse=True` sorts elements in descending order.\n",
    "The `sort()` method modifies the list directly without returning a new list."
   ]
  },
  {
   "cell_type": "code",
   "execution_count": null,
   "id": "f69f8985",
   "metadata": {},
   "outputs": [],
   "source": [
    "num = [10, 20, 30, 40, 50, 10, 20, 30, 40, 50]\n",
    "num.sort(reverse=True)\n",
    "print(num)"
   ]
  },
  {
   "cell_type": "markdown",
   "id": "34241458",
   "metadata": {},
   "source": [
    "### 3\\. minimum"
   ]
  },
  {
   "cell_type": "markdown",
   "id": "64733487-1727-4a64-9a22-71a82dac900f",
   "metadata": {},
   "source": [
    "The `min()` function returns the smallest element in a sequence. It can be used directly with lists (or other iterables) to find the smallest element."
   ]
  },
  {
   "cell_type": "code",
   "execution_count": null,
   "id": "f233c3c1",
   "metadata": {},
   "outputs": [],
   "source": [
    "num = [10, 20, 30, 40, 50, 10, 20, 30, 40, 50]\n",
    "print(min(num))"
   ]
  },
  {
   "cell_type": "markdown",
   "id": "2638cb57",
   "metadata": {},
   "source": [
    "### 4\\. maximum\n",
    "\n"
   ]
  },
  {
   "cell_type": "markdown",
   "id": "4b793bb6-fc87-4675-9c52-4360d939b1b6",
   "metadata": {},
   "source": [
    "The `max()` function returns the largest element in a sequence. It can be used directly with lists (or other iterables) to find the largest element."
   ]
  },
  {
   "cell_type": "code",
   "execution_count": null,
   "id": "1639186a",
   "metadata": {},
   "outputs": [],
   "source": [
    "num = [10, 20, 30, 40, 50, 10, 20, 30, 40, 50]\n",
    "print(max(num))"
   ]
  },
  {
   "cell_type": "markdown",
   "id": "2d0c0bcc",
   "metadata": {},
   "source": [
    "### 5\\. sorted()"
   ]
  },
  {
   "cell_type": "markdown",
   "id": "e59b57af-d487-4ab8-9062-40775407d3cf",
   "metadata": {},
   "source": [
    "The `sorted()` function in Python can be used to create a new sorted list without modifying the original list. It allows you to obtain a sorted version of a list without altering the original list.\n",
    "\n",
    "This approach is useful when you need both the original unsorted list and a sorted version for different purposes."
   ]
  },
  {
   "cell_type": "code",
   "execution_count": null,
   "id": "d1664836",
   "metadata": {},
   "outputs": [],
   "source": [
    "num = [70, 20, 30, 10, 50, 60, 20, 80, 70, 50]\n",
    "sortednum = sorted(num, reverse=True)\n",
    "print(num)\n",
    "print(sortednum)"
   ]
  },
  {
   "cell_type": "markdown",
   "id": "0036f913",
   "metadata": {},
   "source": [
    "**Question** : Modify the code given below to display the five greatest unique numbers."
   ]
  },
  {
   "cell_type": "code",
   "execution_count": null,
   "id": "69d51b89",
   "metadata": {},
   "outputs": [],
   "source": [
    "num = [70, 20, 30, 10, 50, 60, 20, 80, 70, 50]\n",
    "\n",
    "# select first five numbers\n",
    "sortednum = sorted(num, reverse=True)[:5]\n",
    "print(sortednum)"
   ]
  },
  {
   "cell_type": "markdown",
   "id": "be36b289-3d3a-4ad6-9362-2fa1ee7b4e3b",
   "metadata": {},
   "source": [
    "### 6. reversed()"
   ]
  },
  {
   "cell_type": "markdown",
   "id": "6ca19c22-afd4-4244-86c1-64bf644d7b56",
   "metadata": {},
   "source": [
    "The `reversed()` function reverses the order of elements in a sequence without modifying the original list. The result of `reversed()` is an iterator, which means it generates elements lazily as needed."
   ]
  },
  {
   "cell_type": "code",
   "execution_count": null,
   "id": "5ad5fba7-c58f-4e02-bd9e-ecddbc953337",
   "metadata": {},
   "outputs": [],
   "source": [
    "a = [12, 13, 14, 15]\n",
    "a_reverse = reversed(a)\n",
    "\n",
    "print(a_reverse)\n",
    "\n",
    "for num in a_reverse:\n",
    "    print(num)"
   ]
  },
  {
   "cell_type": "markdown",
   "id": "ee3eae83-54ab-4436-a0c6-9cf55978856e",
   "metadata": {},
   "source": [
    "### 7. zip()"
   ]
  },
  {
   "cell_type": "markdown",
   "id": "9ddd2411-6525-4c1b-a25f-1900daaef95b",
   "metadata": {},
   "source": [
    "The `zip()` function pairs elements from multiple iterables (lists, tuples, etc.) based on their positions. If the input iterables (`a1` and `b1` in the example below) have different lengths, `zip()` stops after the shortest one is exhausted.\n",
    "\n",
    "`zip()` is commonly used for iterating over multiple lists simultaneously or for combining data from different sources into tuples."
   ]
  },
  {
   "cell_type": "code",
   "execution_count": null,
   "id": "4723336f-d543-4826-9f41-281b3a6a6c96",
   "metadata": {},
   "outputs": [],
   "source": [
    "a1 = [1, 2, 3, 4]\n",
    "b1 = [5, 6, 7, 8]\n",
    "\n",
    "zipped = list(zip(a1, b1))\n",
    "print(zipped)"
   ]
  },
  {
   "cell_type": "markdown",
   "id": "8810e062-76bc-4207-b53b-1aec190f3f01",
   "metadata": {},
   "source": [
    "### 8. enumerate()"
   ]
  },
  {
   "cell_type": "markdown",
   "id": "1f01b085-1c30-44af-824f-8d379e077957",
   "metadata": {},
   "source": [
    "The `enumerate()` function in Python is used to add a counter to an iterable object (like a list, tuple, or string) and return it as an enumerate object.\n",
    "\n",
    "This enumerate object can then be used in loops or other iterations to obtain an indexed list of elements."
   ]
  },
  {
   "cell_type": "code",
   "execution_count": null,
   "id": "bbc6732c-5ae0-42fb-a6aa-fe1b779a66ee",
   "metadata": {},
   "outputs": [],
   "source": [
    "a1 = [1, 2, 3, 4]\n",
    "\n",
    "ezipped = enumerate(a1)\n",
    "print(ezipped)"
   ]
  },
  {
   "cell_type": "code",
   "execution_count": null,
   "id": "be1f5c64-f205-4d99-88d6-a30566ff31de",
   "metadata": {},
   "outputs": [],
   "source": [
    "a1 = [1, 2, 3, 4]\n",
    "\n",
    "ezipped = enumerate(a1)\n",
    "for index, number in ezipped:\n",
    "    print(index, number)"
   ]
  },
  {
   "cell_type": "markdown",
   "id": "381e5e15-ad0f-4bcc-b217-5c52a5335d3d",
   "metadata": {},
   "source": [
    "It can also be used with other functions seen above."
   ]
  },
  {
   "cell_type": "code",
   "execution_count": null,
   "id": "ef7bc37d-4d88-4542-a205-169fb85c3ddb",
   "metadata": {},
   "outputs": [],
   "source": [
    "a1 = [1, 2, 3, 4]\n",
    "b1 = [5, 6, 7, 8]\n",
    "\n",
    "ezipped = list(enumerate(zip(a1, b1)))\n",
    "print(ezipped)"
   ]
  },
  {
   "cell_type": "markdown",
   "id": "71adbd90-2894-41ea-83e5-53856f918a82",
   "metadata": {},
   "source": [
    "### 9. Working with Strings"
   ]
  },
  {
   "cell_type": "markdown",
   "id": "1b0b399f-15b1-4232-bb27-26c6317da24b",
   "metadata": {},
   "source": [
    "We can also use these functions for working with strings."
   ]
  },
  {
   "cell_type": "code",
   "execution_count": null,
   "id": "19a54b39",
   "metadata": {},
   "outputs": [],
   "source": [
    "print(sorted(\"Hello World!\".split(), key=str.lower, reverse=True))"
   ]
  },
  {
   "cell_type": "code",
   "execution_count": null,
   "id": "2952a3a3-3620-408f-a8fc-dcdae4e913a8",
   "metadata": {},
   "outputs": [],
   "source": [
    "days = [\"Sunday\", \"Monday\", \"Tuesday\", \"Wednesday\", \"Thursday\", \"Friday\"]\n",
    "days_num = list(enumerate(days))\n",
    "print(days_num)"
   ]
  },
  {
   "cell_type": "markdown",
   "id": "7c694233-87a6-4461-92a9-60ed1a9fe420",
   "metadata": {},
   "source": [
    "`enumerate(days, start=1)` creates an enumerate object that iterates over days, starting the index from 1 `(start=1)`."
   ]
  },
  {
   "cell_type": "code",
   "execution_count": null,
   "id": "516947cf-5576-417a-ac4c-da13e4c1837c",
   "metadata": {},
   "outputs": [],
   "source": [
    "days = [\"Sunday\", \"Monday\", \"Tuesday\", \"Wednesday\", \"Thursday\", \"Friday\"]\n",
    "\n",
    "days_num = list(enumerate(days, start=1))\n",
    "print(days_num)"
   ]
  },
  {
   "cell_type": "markdown",
   "id": "ed29eb58",
   "metadata": {},
   "source": [
    "## Exercise 4"
   ]
  },
  {
   "cell_type": "markdown",
   "id": "5802ab25-25e9-4d53-9e3b-f60885af7932",
   "metadata": {},
   "source": [
    "### 1\\. Dictionary"
   ]
  },
  {
   "cell_type": "markdown",
   "id": "ff5fb132-0899-486e-a182-da5ef9bd2e1b",
   "metadata": {},
   "source": [
    "Dictionary represents an unordered collection of items where each item is a key-value pair. Keys must be unique and immutable (strings, numbers, tuples), while values can be of any data type and mutable."
   ]
  },
  {
   "cell_type": "code",
   "execution_count": null,
   "id": "13d5b12c",
   "metadata": {},
   "outputs": [],
   "source": [
    "a = {\"joyful\": 12, \"happy\": 12, \"sad\": 2}\n",
    "print(a)\n",
    "print(type(a))"
   ]
  },
  {
   "cell_type": "markdown",
   "id": "277bddbc-3d43-4adb-9d1a-5b2da425b69e",
   "metadata": {},
   "source": [
    "You can access (and even modify) the value associated with a key using `a[key]`."
   ]
  },
  {
   "cell_type": "code",
   "execution_count": null,
   "id": "65276372",
   "metadata": {},
   "outputs": [],
   "source": [
    "a = {\"joyful\": 12, \"happy\": 12, \"sad\": 2}\n",
    "a[\"joy\"] = 10\n",
    "print(a)"
   ]
  },
  {
   "cell_type": "markdown",
   "id": "e46a5364-523c-4bd7-80b8-45ab9019ca49",
   "metadata": {},
   "source": [
    "Iterating over a dictionary directly iterates over its keys by default."
   ]
  },
  {
   "cell_type": "code",
   "execution_count": null,
   "id": "a65f8a9f",
   "metadata": {},
   "outputs": [],
   "source": [
    "a = {\"joyful\": 12, \"happy\": 12, \"sad\": 2}\n",
    "for key in a:\n",
    "    print(\"The word \", key, \" appears \", a[key], \" times\")"
   ]
  },
  {
   "cell_type": "markdown",
   "id": "d09d9baf-54d3-41ad-82a0-e2608e2755a4",
   "metadata": {},
   "source": [
    "Directly sorting a dictionary with `sorted()` sorts its keys and returns them as a list."
   ]
  },
  {
   "cell_type": "code",
   "execution_count": null,
   "id": "25f662f3",
   "metadata": {},
   "outputs": [],
   "source": [
    "words = {\"joyful\": 12, \"happy\": 12, \"sad\": 2, \"joy\": 10}\n",
    "print(sorted(words))"
   ]
  },
  {
   "cell_type": "markdown",
   "id": "641ed6c0-accd-4f62-943c-220b10f9d353",
   "metadata": {},
   "source": [
    "Using `.items()` allows you to iterate over key-value pairs of a dictionary."
   ]
  },
  {
   "cell_type": "code",
   "execution_count": null,
   "id": "5393d1aa",
   "metadata": {},
   "outputs": [],
   "source": [
    "a = {\"joyful\": 12, \"happy\": 12, \"sad\": 2}\n",
    "for key, value in a.items():\n",
    "    print(\"The word \", key, \" appears \", value, \" times\")"
   ]
  },
  {
   "cell_type": "markdown",
   "id": "9f5644c4-ef48-49a7-bd32-19ea5fc974e5",
   "metadata": {},
   "source": [
    "You can delete an item from a dictionary using del followed by `a[key]`, where `key` is the key of the item you want to delete."
   ]
  },
  {
   "cell_type": "code",
   "execution_count": null,
   "id": "b9aa1a05",
   "metadata": {},
   "outputs": [],
   "source": [
    "a = {\"joyful\": 12, \"happy\": 12, \"sad\": 2}\n",
    "del a[\"sad\"]\n",
    "print(a)"
   ]
  },
  {
   "cell_type": "code",
   "execution_count": null,
   "id": "35f02880",
   "metadata": {},
   "outputs": [],
   "source": [
    "words = {\"joyful\": 12, \"happy\": 12, \"sad\": 2, \"joy\": 10}\n",
    "words_tuple = [(key, value) for key, value in words.items()]\n",
    "print(words_tuple)"
   ]
  },
  {
   "cell_type": "markdown",
   "id": "9b54ef22",
   "metadata": {},
   "source": [
    "### 2\\. itemgetter"
   ]
  },
  {
   "cell_type": "markdown",
   "id": "6cb551c2-4112-47f8-ab63-9ed998885339",
   "metadata": {},
   "source": [
    "`itemgetter` is a function from the operator module that is used to retrieve items or elements from an iterable object (like a list, tuple, or dictionary) based on their indices or keys. It returns a callable object that fetches the given item(s) from the provided object."
   ]
  },
  {
   "cell_type": "markdown",
   "id": "4cbd9e32-00d7-4ebf-b46e-4835d82d8c90",
   "metadata": {},
   "source": [
    "Using `sorted()` with `itemgetter(1)` allows sorting a list of tuples by the second element (`value` in this case). Sorting operations do not modify the original dictionary or its contents but create a sorted list of tuples."
   ]
  },
  {
   "cell_type": "code",
   "execution_count": null,
   "id": "eb3cbd38",
   "metadata": {},
   "outputs": [],
   "source": [
    "from operator import itemgetter\n",
    "\n",
    "words = {\"joyful\": 12, \"happy\": 12, \"sad\": 2, \"joy\": 10}\n",
    "words_tuple = [(key, value) for key, value in words.items()]\n",
    "print(sorted(words_tuple, key=itemgetter(1)))"
   ]
  },
  {
   "cell_type": "markdown",
   "id": "5e6f3f3f",
   "metadata": {},
   "source": [
    "### 3\\. Interaction with user"
   ]
  },
  {
   "cell_type": "markdown",
   "id": "daee0869-5622-4867-a919-429bef95c7b2",
   "metadata": {},
   "source": [
    "The `input()` function is used to accept user input from the console. The message inside `input()` serves as a prompt to guide the user on what to input."
   ]
  },
  {
   "cell_type": "code",
   "execution_count": null,
   "id": "f8256c96",
   "metadata": {},
   "outputs": [],
   "source": [
    "# name = input(\"What is your name?\")\n",
    "# print(name)"
   ]
  },
  {
   "cell_type": "code",
   "execution_count": null,
   "id": "9b3b1a61",
   "metadata": {},
   "outputs": [],
   "source": [
    "# age = input(\"How old are you? \")\n",
    "# print(age)\n",
    "# print(type(age))"
   ]
  },
  {
   "cell_type": "code",
   "execution_count": null,
   "id": "254a8fc4",
   "metadata": {},
   "outputs": [],
   "source": [
    "# age = input(\"How old are you?\")\n",
    "# age = int(age)\n",
    "# print(age)\n",
    "# print(type(age))"
   ]
  },
  {
   "cell_type": "markdown",
   "id": "148c8d81",
   "metadata": {},
   "source": [
    "**Question:** Write a program in Python that interacts with the user to\n",
    "obtain the following information of 5 students:\n",
    "\n",
    "-   Name of student\n",
    "-   Age\n",
    "-   Grades in 5 modules\n",
    "\n",
    "Once the information for all the five students is obtained, calculate\n",
    "and display the following values for every module:\n",
    "\n",
    "-   average grade\n",
    "-   maximum grade\n",
    "-   minimum grade\n",
    "\n"
   ]
  },
  {
   "cell_type": "markdown",
   "id": "66a9f549",
   "metadata": {},
   "source": [
    "## Exercise 5\n",
    "\n"
   ]
  },
  {
   "cell_type": "markdown",
   "id": "82f4ae45",
   "metadata": {},
   "source": [
    "### 1\\. Files"
   ]
  },
  {
   "cell_type": "markdown",
   "id": "0dfb8918-9a90-45dc-9d63-4d24b3d2379c",
   "metadata": {},
   "source": [
    "The `open()` function opens a file and returns a corresponding file object that allows you to interact with the file (read from it, write to it, etc.). The `read()` method reads data from an opened file. The write() method writes data to an opened file."
   ]
  },
  {
   "cell_type": "code",
   "execution_count": null,
   "id": "debe1068",
   "metadata": {},
   "outputs": [],
   "source": [
    "message = \"Hello World!\"\n",
    "with open(\"Hello.txt\", \"w\") as file:\n",
    "    file.write(message)\n",
    "file.close()"
   ]
  },
  {
   "cell_type": "code",
   "execution_count": null,
   "id": "05382bac",
   "metadata": {},
   "outputs": [],
   "source": [
    "with open(\"Hello.txt\", \"r\") as file:\n",
    "    text = file.read()\n",
    "    print(text)\n",
    "file.close()"
   ]
  },
  {
   "cell_type": "markdown",
   "id": "59a01d74-8339-4838-84fd-628c94c6db49",
   "metadata": {},
   "source": [
    "In Jupyter Notebook, the `?` symbol is used to access documentation and help for functions and objects. It is a shortcut to access the built-in help system in Python and Jupyter environments."
   ]
  },
  {
   "cell_type": "code",
   "execution_count": null,
   "id": "3d3f7d0a",
   "metadata": {},
   "outputs": [],
   "source": [
    "message1 = \"Hello World!\"\n",
    "message2 = \"Programming in Python\"\n",
    "with open(\"Hello.txt\", \"w\") as file:\n",
    "    file.write(message1)\n",
    "    file.write(message2)\n",
    "file.close()"
   ]
  },
  {
   "cell_type": "code",
   "execution_count": null,
   "id": "8726a219",
   "metadata": {},
   "outputs": [],
   "source": [
    "message1 = \"Hello World!\\n\"\n",
    "message2 = \"Programming in Python\"\n",
    "with open(\"Hello.txt\", \"w\") as file:\n",
    "    file.write(message1)\n",
    "    file.write(message2)\n",
    "file.close()\n",
    "\n",
    "with open(\"Hello.txt\", \"r\") as file:\n",
    "    text = file.read()\n",
    "    print(text)\n",
    "file.close()"
   ]
  },
  {
   "cell_type": "code",
   "execution_count": null,
   "id": "2c73ee73-e122-490e-9a16-d582999657ea",
   "metadata": {},
   "outputs": [],
   "source": [
    "?open"
   ]
  },
  {
   "cell_type": "code",
   "execution_count": null,
   "id": "9eb6f957-c858-4955-bc27-89afbd6ec174",
   "metadata": {},
   "outputs": [],
   "source": [
    "?message1"
   ]
  },
  {
   "cell_type": "code",
   "execution_count": null,
   "id": "fe4afa76-2641-47a3-92af-15d50eed90de",
   "metadata": {},
   "outputs": [],
   "source": [
    "?message2"
   ]
  },
  {
   "cell_type": "code",
   "execution_count": null,
   "id": "5e0642ed",
   "metadata": {},
   "outputs": [],
   "source": [
    "with open(\"Hello.txt\", \"r\") as file:\n",
    "    text = file.read()\n",
    "    print(text)\n",
    "file.close()"
   ]
  },
  {
   "cell_type": "markdown",
   "id": "e9bedad4",
   "metadata": {},
   "source": [
    "### 2\\. readline()\n",
    "\n",
    "This function can be used to read a file line by line and not the complete happy in a single call like read()\n"
   ]
  },
  {
   "cell_type": "code",
   "execution_count": null,
   "id": "e4e49d3b",
   "metadata": {},
   "outputs": [],
   "source": [
    "message1 = \"Hello World!\\n\"\n",
    "message2 = \"Programming in Python\"\n",
    "with open(\"Hello.txt\", \"w\") as file:\n",
    "    file.write(message1)\n",
    "    file.write(message2)\n",
    "file.close()"
   ]
  },
  {
   "cell_type": "markdown",
   "id": "616a1f71-8b32-4959-a1cb-3ab11861eafa",
   "metadata": {},
   "source": [
    "Use `readline()` in a loop or iteratively to process each line of a file sequentially. It is useful for handling large files or files where processing each line independently is necessary."
   ]
  },
  {
   "cell_type": "code",
   "execution_count": null,
   "id": "3cee32c6",
   "metadata": {},
   "outputs": [],
   "source": [
    "with open(\"Hello.txt\", \"r\") as file:\n",
    "    text = file.readline()\n",
    "    print(text)\n",
    "file.close()"
   ]
  },
  {
   "cell_type": "code",
   "execution_count": null,
   "id": "0e411aef",
   "metadata": {},
   "outputs": [],
   "source": [
    "message1 = \"Hello World!\\n\"\n",
    "message2 = \"Programming in Python\\n\"\n",
    "with open(\"Hello.txt\", \"w\") as file:\n",
    "    file.write(message1)\n",
    "    file.write(message2)\n",
    "file.close()"
   ]
  },
  {
   "cell_type": "code",
   "execution_count": null,
   "id": "ad76888d",
   "metadata": {},
   "outputs": [],
   "source": [
    "with open(\"Hello.txt\", \"r\") as file:\n",
    "    for line in file:\n",
    "        print(line)\n",
    "file.close()"
   ]
  },
  {
   "cell_type": "markdown",
   "id": "01c3c72b",
   "metadata": {},
   "source": [
    "**Question:** Copy any HTML file in your home directory. Write a program\n",
    "in Python to get the following values:\n",
    "\n",
    "-   number of characters in the HTML file\n",
    "-   number of lines in the HTML file\n",
    "-   number of words in the HTML file\n",
    "-   first twenty words in the HTML file\n",
    "-   distinct words in the HTML file\n",
    "\n"
   ]
  },
  {
   "cell_type": "markdown",
   "id": "7c381c4f",
   "metadata": {},
   "source": [
    "**Question:** Copy the CSV\n",
    "file population.csv from the **data** folder. The file contains the population values between\n",
    "1901 and 2016. Write a program in Python to get the maximum value.\n",
    "\n",
    "-   the maximum value of population\n",
    "-   the minimum value of population\n",
    "\n"
   ]
  },
  {
   "cell_type": "markdown",
   "id": "abae558e-5724-4220-8f6b-fe2c39562f33",
   "metadata": {},
   "source": [
    "## Exercise 6"
   ]
  },
  {
   "cell_type": "markdown",
   "id": "b7df226c-d749-49dc-8f69-62897ba992a5",
   "metadata": {},
   "source": [
    "**NumPy**, a popular library for numerical computations, provides efficient ways to perform mathematical operations on arrays, including matrices. NumPy operations are optimized for performance, especially with large datasets."
   ]
  },
  {
   "cell_type": "markdown",
   "id": "958185cc",
   "metadata": {},
   "source": [
    "### 1. Importing Numpy"
   ]
  },
  {
   "cell_type": "code",
   "execution_count": null,
   "id": "99d56c44",
   "metadata": {},
   "outputs": [],
   "source": [
    "import numpy as np"
   ]
  },
  {
   "cell_type": "markdown",
   "id": "763c7c87",
   "metadata": {},
   "source": [
    "### 2. Matrix operations"
   ]
  },
  {
   "cell_type": "code",
   "execution_count": null,
   "id": "614abc1a",
   "metadata": {},
   "outputs": [],
   "source": [
    "a1 = [1, 2, 3, 4]\n",
    "b1 = [5, 6, 7, 8]"
   ]
  },
  {
   "cell_type": "markdown",
   "id": "7908b676-75d9-457e-9dd1-d7afce1e27d6",
   "metadata": {},
   "source": [
    "Matrix addition using `np.add()`"
   ]
  },
  {
   "cell_type": "code",
   "execution_count": null,
   "id": "772e6ce1",
   "metadata": {},
   "outputs": [],
   "source": [
    "c1 = np.add(a1, b1)\n",
    "print(c1)"
   ]
  },
  {
   "cell_type": "markdown",
   "id": "05331592-abdc-48ed-bfd9-d3d8c2f75523",
   "metadata": {},
   "source": [
    "Matrix subtraction using `np.subtract()`"
   ]
  },
  {
   "cell_type": "code",
   "execution_count": null,
   "id": "12f38a62",
   "metadata": {},
   "outputs": [],
   "source": [
    "c1 = np.subtract(a1, b1)\n",
    "print(c1)"
   ]
  },
  {
   "cell_type": "markdown",
   "id": "d1dd2fd2-b0db-4dd1-a5c9-d4fd09580b9a",
   "metadata": {},
   "source": [
    "Matrix multiplication using `np.multiply()`"
   ]
  },
  {
   "cell_type": "code",
   "execution_count": null,
   "id": "f4eed2c4",
   "metadata": {},
   "outputs": [],
   "source": [
    "c1 = np.multiply(a1, b1)\n",
    "print(c1)"
   ]
  },
  {
   "cell_type": "code",
   "execution_count": null,
   "id": "698b0595",
   "metadata": {},
   "outputs": [],
   "source": [
    "c1 = np.multiply(4, b1)\n",
    "print(c1)"
   ]
  },
  {
   "cell_type": "code",
   "execution_count": null,
   "id": "277ea1c3",
   "metadata": {},
   "outputs": [],
   "source": [
    "c1 = np.dot(a1, b1)\n",
    "print(c1)"
   ]
  },
  {
   "cell_type": "code",
   "execution_count": null,
   "id": "d5d8507a",
   "metadata": {},
   "outputs": [],
   "source": [
    "c1 = np.dot(5, b1)\n",
    "print(c1)"
   ]
  },
  {
   "cell_type": "code",
   "execution_count": null,
   "id": "d9cd5d17",
   "metadata": {},
   "outputs": [],
   "source": [
    "b1 = [5, 6, 7, 8]\n",
    "c1 = np.dot(a1, b1)\n",
    "print(c1)"
   ]
  },
  {
   "cell_type": "code",
   "execution_count": null,
   "id": "9068eb12",
   "metadata": {},
   "outputs": [],
   "source": [
    "a1 = [1, 2, 3, 4, 5, 6]\n",
    "moyen = np.average(a1)\n",
    "print(moyen)"
   ]
  },
  {
   "cell_type": "markdown",
   "id": "9d2d853e",
   "metadata": {},
   "source": [
    "### 3. Matrix Transposition"
   ]
  },
  {
   "cell_type": "code",
   "execution_count": null,
   "id": "9faee63c",
   "metadata": {},
   "outputs": [],
   "source": [
    "b1 = [[5, 6, 7, 8, 9], [1, 2, 3, 4, 5]]\n",
    "print(b1)\n",
    "b1 = np.array(b1)\n",
    "print(b1.T)"
   ]
  },
  {
   "cell_type": "markdown",
   "id": "ef4d5e1c",
   "metadata": {},
   "source": [
    "### 4. Split a matrix to two, horizontally and vertically"
   ]
  },
  {
   "cell_type": "markdown",
   "id": "1e1262b4-af98-4b73-8281-8ba39768d9e1",
   "metadata": {},
   "source": [
    "`np.hsplit()` function splits an array horizontally (along columns) at the specified indices."
   ]
  },
  {
   "cell_type": "code",
   "execution_count": null,
   "id": "a93fe450",
   "metadata": {},
   "outputs": [],
   "source": [
    "a = [[0, 0, 0], [0, 1, 0], [1, 0, 0], [1, 1, 1]]\n",
    "a = np.array(a)\n",
    "\n",
    "# Split 'a' horizontally at column index 2\n",
    "a = np.hsplit(a, [2])\n",
    "\n",
    "a1 = a[0]\n",
    "a2 = a[1]\n",
    "print(a1)\n",
    "print(a2)"
   ]
  },
  {
   "cell_type": "code",
   "execution_count": null,
   "id": "e9958dfe-074b-47bb-a89a-f379d9c7c08c",
   "metadata": {},
   "outputs": [],
   "source": [
    "?np.hsplit"
   ]
  },
  {
   "cell_type": "markdown",
   "id": "122b98b1-c3a0-4f28-984e-e43798b7aa4a",
   "metadata": {},
   "source": [
    "`np.vsplit()` function splits an array vertically (along rows) at the specified indices."
   ]
  },
  {
   "cell_type": "code",
   "execution_count": null,
   "id": "1a563cc4",
   "metadata": {},
   "outputs": [],
   "source": [
    "a = [[0, 0, 0], [0, 1, 0], [1, 0, 0], [1, 1, 1]]\n",
    "a = np.array(a)\n",
    "\n",
    "# Split 'a' vertically at row index 2\n",
    "a = np.vsplit(a, [2])\n",
    "\n",
    "a1 = a[0]\n",
    "a2 = a[1]\n",
    "print(a1)\n",
    "print(a2)"
   ]
  },
  {
   "cell_type": "markdown",
   "id": "e053ef50",
   "metadata": {},
   "source": [
    "### 5. Operations on two-dimensional matrices"
   ]
  },
  {
   "cell_type": "code",
   "execution_count": null,
   "id": "6c1b5a55",
   "metadata": {},
   "outputs": [],
   "source": [
    "a2 = [[1, 2, 3, 4], [1, 2, 3, 4]]\n",
    "b2 = [[5, 6, 7, 8], [5, 6, 7, 8]]"
   ]
  },
  {
   "cell_type": "code",
   "execution_count": null,
   "id": "eea69dbc",
   "metadata": {},
   "outputs": [],
   "source": [
    "c2 = np.add(a2, b2)\n",
    "print(c2)"
   ]
  },
  {
   "cell_type": "code",
   "execution_count": null,
   "id": "0b5e4acc",
   "metadata": {},
   "outputs": [],
   "source": [
    "c2 = np.subtract(a2, b2)\n",
    "print(c2)"
   ]
  },
  {
   "cell_type": "code",
   "execution_count": null,
   "id": "364f6383",
   "metadata": {},
   "outputs": [],
   "source": [
    "c2 = np.multiply(a2, b2)\n",
    "print(c2)"
   ]
  },
  {
   "cell_type": "code",
   "execution_count": null,
   "id": "247cb456",
   "metadata": {},
   "outputs": [],
   "source": [
    "a2 = [[1, 2, 3, 4], [1, 2, 3, 4]]\n",
    "a2 = np.array(a2)\n",
    "b2 = [[5, 6, 7, 8], [5, 6, 7, 8]]\n",
    "b2 = np.array(b2)\n",
    "c2 = np.dot(a2, b2.T)\n",
    "print(c2)"
   ]
  },
  {
   "cell_type": "markdown",
   "id": "2b3dcd53",
   "metadata": {},
   "source": [
    "### 6. Change the shape of a matrix"
   ]
  },
  {
   "cell_type": "code",
   "execution_count": null,
   "id": "60a62a65",
   "metadata": {},
   "outputs": [],
   "source": [
    "b2 = [[5, 6, 7, 8], [5, 6, 7, 8]]\n",
    "b2 = np.array(b2)\n",
    "print(b2)\n",
    "c2 = b2.reshape(4, 2)\n",
    "print(c2)"
   ]
  },
  {
   "cell_type": "markdown",
   "id": "61f41ad8",
   "metadata": {},
   "source": [
    "### 7. Creation of a matrix with random numbers"
   ]
  },
  {
   "cell_type": "code",
   "execution_count": null,
   "id": "4c84ad73",
   "metadata": {},
   "outputs": [],
   "source": [
    "a = np.random.rand()\n",
    "print(a)"
   ]
  },
  {
   "cell_type": "code",
   "execution_count": null,
   "id": "b3e815f6",
   "metadata": {},
   "outputs": [],
   "source": [
    "a = np.random.rand(1)\n",
    "print(a)"
   ]
  },
  {
   "cell_type": "code",
   "execution_count": null,
   "id": "a8291063",
   "metadata": {},
   "outputs": [],
   "source": [
    "a = np.random.rand(2, 5)\n",
    "print(a)"
   ]
  },
  {
   "cell_type": "code",
   "execution_count": null,
   "id": "6bcde21a",
   "metadata": {},
   "outputs": [],
   "source": [
    "a = np.random.rand(2, 3, 3)\n",
    "print(a)"
   ]
  },
  {
   "cell_type": "code",
   "execution_count": null,
   "id": "33f9d1a5",
   "metadata": {},
   "outputs": [],
   "source": [
    "a = np.zeros(1)\n",
    "print(a)"
   ]
  },
  {
   "cell_type": "code",
   "execution_count": null,
   "id": "2d3197c6",
   "metadata": {},
   "outputs": [],
   "source": [
    "a = np.zeros(1, dtype=int)\n",
    "print(a)"
   ]
  },
  {
   "cell_type": "code",
   "execution_count": null,
   "id": "55cee533",
   "metadata": {},
   "outputs": [],
   "source": [
    "a = np.zeros((2, 5), dtype=int)\n",
    "print(a)"
   ]
  }
 ],
 "metadata": {
  "kernelspec": {
   "display_name": "Python 3 (ipykernel)",
   "language": "python",
   "name": "python3"
  },
  "language_info": {
   "codemirror_mode": {
    "name": "ipython",
    "version": 3
   },
   "file_extension": ".py",
   "mimetype": "text/x-python",
   "name": "python",
   "nbconvert_exporter": "python",
   "pygments_lexer": "ipython3",
   "version": "3.11.4"
  }
 },
 "nbformat": 4,
 "nbformat_minor": 5
}
